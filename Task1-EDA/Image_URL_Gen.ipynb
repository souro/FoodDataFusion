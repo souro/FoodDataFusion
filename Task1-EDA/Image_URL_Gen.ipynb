{
  "nbformat": 4,
  "nbformat_minor": 0,
  "metadata": {
    "colab": {
      "provenance": []
    },
    "kernelspec": {
      "name": "python3",
      "display_name": "Python 3"
    },
    "language_info": {
      "name": "python"
    },
    "widgets": {
      "application/vnd.jupyter.widget-state+json": {
        "c6ee1c0e0ace4e2897997598c32cf2ab": {
          "model_module": "@jupyter-widgets/controls",
          "model_name": "HBoxModel",
          "model_module_version": "1.5.0",
          "state": {
            "_dom_classes": [],
            "_model_module": "@jupyter-widgets/controls",
            "_model_module_version": "1.5.0",
            "_model_name": "HBoxModel",
            "_view_count": null,
            "_view_module": "@jupyter-widgets/controls",
            "_view_module_version": "1.5.0",
            "_view_name": "HBoxView",
            "box_style": "",
            "children": [
              "IPY_MODEL_732cd87283e44354b31c57b92323c4d2",
              "IPY_MODEL_295b5911877f41dfb2b617b867237f07",
              "IPY_MODEL_119713a0c1b64b5bb058d611d65e9cf3"
            ],
            "layout": "IPY_MODEL_94d8215d4cc341efa6165577133b10db"
          }
        },
        "732cd87283e44354b31c57b92323c4d2": {
          "model_module": "@jupyter-widgets/controls",
          "model_name": "HTMLModel",
          "model_module_version": "1.5.0",
          "state": {
            "_dom_classes": [],
            "_model_module": "@jupyter-widgets/controls",
            "_model_module_version": "1.5.0",
            "_model_name": "HTMLModel",
            "_view_count": null,
            "_view_module": "@jupyter-widgets/controls",
            "_view_module_version": "1.5.0",
            "_view_name": "HTMLView",
            "description": "",
            "description_tooltip": null,
            "layout": "IPY_MODEL_45472e943a424e1daa0b5650f6b5d020",
            "placeholder": "​",
            "style": "IPY_MODEL_4a08e43cbc73443ea9537ec606fba7cf",
            "value": "Loading dataset shards: 100%"
          }
        },
        "295b5911877f41dfb2b617b867237f07": {
          "model_module": "@jupyter-widgets/controls",
          "model_name": "FloatProgressModel",
          "model_module_version": "1.5.0",
          "state": {
            "_dom_classes": [],
            "_model_module": "@jupyter-widgets/controls",
            "_model_module_version": "1.5.0",
            "_model_name": "FloatProgressModel",
            "_view_count": null,
            "_view_module": "@jupyter-widgets/controls",
            "_view_module_version": "1.5.0",
            "_view_name": "ProgressView",
            "bar_style": "success",
            "description": "",
            "description_tooltip": null,
            "layout": "IPY_MODEL_5528c0b11ff74b99a37d1026c7f58557",
            "max": 58,
            "min": 0,
            "orientation": "horizontal",
            "style": "IPY_MODEL_30ac76362479448e9eaade5f6e388f8b",
            "value": 58
          }
        },
        "119713a0c1b64b5bb058d611d65e9cf3": {
          "model_module": "@jupyter-widgets/controls",
          "model_name": "HTMLModel",
          "model_module_version": "1.5.0",
          "state": {
            "_dom_classes": [],
            "_model_module": "@jupyter-widgets/controls",
            "_model_module_version": "1.5.0",
            "_model_name": "HTMLModel",
            "_view_count": null,
            "_view_module": "@jupyter-widgets/controls",
            "_view_module_version": "1.5.0",
            "_view_name": "HTMLView",
            "description": "",
            "description_tooltip": null,
            "layout": "IPY_MODEL_68fa86e57cf94e51812b1097e334d5ff",
            "placeholder": "​",
            "style": "IPY_MODEL_5c2fe2f336ee4ae1b21632ea449503db",
            "value": " 58/58 [00:41&lt;00:00,  1.79it/s]"
          }
        },
        "94d8215d4cc341efa6165577133b10db": {
          "model_module": "@jupyter-widgets/base",
          "model_name": "LayoutModel",
          "model_module_version": "1.2.0",
          "state": {
            "_model_module": "@jupyter-widgets/base",
            "_model_module_version": "1.2.0",
            "_model_name": "LayoutModel",
            "_view_count": null,
            "_view_module": "@jupyter-widgets/base",
            "_view_module_version": "1.2.0",
            "_view_name": "LayoutView",
            "align_content": null,
            "align_items": null,
            "align_self": null,
            "border": null,
            "bottom": null,
            "display": null,
            "flex": null,
            "flex_flow": null,
            "grid_area": null,
            "grid_auto_columns": null,
            "grid_auto_flow": null,
            "grid_auto_rows": null,
            "grid_column": null,
            "grid_gap": null,
            "grid_row": null,
            "grid_template_areas": null,
            "grid_template_columns": null,
            "grid_template_rows": null,
            "height": null,
            "justify_content": null,
            "justify_items": null,
            "left": null,
            "margin": null,
            "max_height": null,
            "max_width": null,
            "min_height": null,
            "min_width": null,
            "object_fit": null,
            "object_position": null,
            "order": null,
            "overflow": null,
            "overflow_x": null,
            "overflow_y": null,
            "padding": null,
            "right": null,
            "top": null,
            "visibility": null,
            "width": null
          }
        },
        "45472e943a424e1daa0b5650f6b5d020": {
          "model_module": "@jupyter-widgets/base",
          "model_name": "LayoutModel",
          "model_module_version": "1.2.0",
          "state": {
            "_model_module": "@jupyter-widgets/base",
            "_model_module_version": "1.2.0",
            "_model_name": "LayoutModel",
            "_view_count": null,
            "_view_module": "@jupyter-widgets/base",
            "_view_module_version": "1.2.0",
            "_view_name": "LayoutView",
            "align_content": null,
            "align_items": null,
            "align_self": null,
            "border": null,
            "bottom": null,
            "display": null,
            "flex": null,
            "flex_flow": null,
            "grid_area": null,
            "grid_auto_columns": null,
            "grid_auto_flow": null,
            "grid_auto_rows": null,
            "grid_column": null,
            "grid_gap": null,
            "grid_row": null,
            "grid_template_areas": null,
            "grid_template_columns": null,
            "grid_template_rows": null,
            "height": null,
            "justify_content": null,
            "justify_items": null,
            "left": null,
            "margin": null,
            "max_height": null,
            "max_width": null,
            "min_height": null,
            "min_width": null,
            "object_fit": null,
            "object_position": null,
            "order": null,
            "overflow": null,
            "overflow_x": null,
            "overflow_y": null,
            "padding": null,
            "right": null,
            "top": null,
            "visibility": null,
            "width": null
          }
        },
        "4a08e43cbc73443ea9537ec606fba7cf": {
          "model_module": "@jupyter-widgets/controls",
          "model_name": "DescriptionStyleModel",
          "model_module_version": "1.5.0",
          "state": {
            "_model_module": "@jupyter-widgets/controls",
            "_model_module_version": "1.5.0",
            "_model_name": "DescriptionStyleModel",
            "_view_count": null,
            "_view_module": "@jupyter-widgets/base",
            "_view_module_version": "1.2.0",
            "_view_name": "StyleView",
            "description_width": ""
          }
        },
        "5528c0b11ff74b99a37d1026c7f58557": {
          "model_module": "@jupyter-widgets/base",
          "model_name": "LayoutModel",
          "model_module_version": "1.2.0",
          "state": {
            "_model_module": "@jupyter-widgets/base",
            "_model_module_version": "1.2.0",
            "_model_name": "LayoutModel",
            "_view_count": null,
            "_view_module": "@jupyter-widgets/base",
            "_view_module_version": "1.2.0",
            "_view_name": "LayoutView",
            "align_content": null,
            "align_items": null,
            "align_self": null,
            "border": null,
            "bottom": null,
            "display": null,
            "flex": null,
            "flex_flow": null,
            "grid_area": null,
            "grid_auto_columns": null,
            "grid_auto_flow": null,
            "grid_auto_rows": null,
            "grid_column": null,
            "grid_gap": null,
            "grid_row": null,
            "grid_template_areas": null,
            "grid_template_columns": null,
            "grid_template_rows": null,
            "height": null,
            "justify_content": null,
            "justify_items": null,
            "left": null,
            "margin": null,
            "max_height": null,
            "max_width": null,
            "min_height": null,
            "min_width": null,
            "object_fit": null,
            "object_position": null,
            "order": null,
            "overflow": null,
            "overflow_x": null,
            "overflow_y": null,
            "padding": null,
            "right": null,
            "top": null,
            "visibility": null,
            "width": null
          }
        },
        "30ac76362479448e9eaade5f6e388f8b": {
          "model_module": "@jupyter-widgets/controls",
          "model_name": "ProgressStyleModel",
          "model_module_version": "1.5.0",
          "state": {
            "_model_module": "@jupyter-widgets/controls",
            "_model_module_version": "1.5.0",
            "_model_name": "ProgressStyleModel",
            "_view_count": null,
            "_view_module": "@jupyter-widgets/base",
            "_view_module_version": "1.2.0",
            "_view_name": "StyleView",
            "bar_color": null,
            "description_width": ""
          }
        },
        "68fa86e57cf94e51812b1097e334d5ff": {
          "model_module": "@jupyter-widgets/base",
          "model_name": "LayoutModel",
          "model_module_version": "1.2.0",
          "state": {
            "_model_module": "@jupyter-widgets/base",
            "_model_module_version": "1.2.0",
            "_model_name": "LayoutModel",
            "_view_count": null,
            "_view_module": "@jupyter-widgets/base",
            "_view_module_version": "1.2.0",
            "_view_name": "LayoutView",
            "align_content": null,
            "align_items": null,
            "align_self": null,
            "border": null,
            "bottom": null,
            "display": null,
            "flex": null,
            "flex_flow": null,
            "grid_area": null,
            "grid_auto_columns": null,
            "grid_auto_flow": null,
            "grid_auto_rows": null,
            "grid_column": null,
            "grid_gap": null,
            "grid_row": null,
            "grid_template_areas": null,
            "grid_template_columns": null,
            "grid_template_rows": null,
            "height": null,
            "justify_content": null,
            "justify_items": null,
            "left": null,
            "margin": null,
            "max_height": null,
            "max_width": null,
            "min_height": null,
            "min_width": null,
            "object_fit": null,
            "object_position": null,
            "order": null,
            "overflow": null,
            "overflow_x": null,
            "overflow_y": null,
            "padding": null,
            "right": null,
            "top": null,
            "visibility": null,
            "width": null
          }
        },
        "5c2fe2f336ee4ae1b21632ea449503db": {
          "model_module": "@jupyter-widgets/controls",
          "model_name": "DescriptionStyleModel",
          "model_module_version": "1.5.0",
          "state": {
            "_model_module": "@jupyter-widgets/controls",
            "_model_module_version": "1.5.0",
            "_model_name": "DescriptionStyleModel",
            "_view_count": null,
            "_view_module": "@jupyter-widgets/base",
            "_view_module_version": "1.2.0",
            "_view_name": "StyleView",
            "description_width": ""
          }
        }
      }
    }
  },
  "cells": [
    {
      "cell_type": "code",
      "execution_count": null,
      "metadata": {
        "colab": {
          "base_uri": "https://localhost:8080/"
        },
        "id": "7TzuGEDstkMk",
        "outputId": "893661ca-b9d8-4583-81f3-b4f10f123324"
      },
      "outputs": [
        {
          "output_type": "stream",
          "name": "stdout",
          "text": [
            "Requirement already satisfied: datasets in /usr/local/lib/python3.11/dist-packages (3.2.0)\n",
            "Requirement already satisfied: filelock in /usr/local/lib/python3.11/dist-packages (from datasets) (3.16.1)\n",
            "Requirement already satisfied: numpy>=1.17 in /usr/local/lib/python3.11/dist-packages (from datasets) (1.26.4)\n",
            "Requirement already satisfied: pyarrow>=15.0.0 in /usr/local/lib/python3.11/dist-packages (from datasets) (17.0.0)\n",
            "Requirement already satisfied: dill<0.3.9,>=0.3.0 in /usr/local/lib/python3.11/dist-packages (from datasets) (0.3.8)\n",
            "Requirement already satisfied: pandas in /usr/local/lib/python3.11/dist-packages (from datasets) (2.2.2)\n",
            "Requirement already satisfied: requests>=2.32.2 in /usr/local/lib/python3.11/dist-packages (from datasets) (2.32.3)\n",
            "Requirement already satisfied: tqdm>=4.66.3 in /usr/local/lib/python3.11/dist-packages (from datasets) (4.67.1)\n",
            "Requirement already satisfied: xxhash in /usr/local/lib/python3.11/dist-packages (from datasets) (3.5.0)\n",
            "Requirement already satisfied: multiprocess<0.70.17 in /usr/local/lib/python3.11/dist-packages (from datasets) (0.70.16)\n",
            "Requirement already satisfied: fsspec<=2024.9.0,>=2023.1.0 in /usr/local/lib/python3.11/dist-packages (from fsspec[http]<=2024.9.0,>=2023.1.0->datasets) (2024.9.0)\n",
            "Requirement already satisfied: aiohttp in /usr/local/lib/python3.11/dist-packages (from datasets) (3.11.11)\n",
            "Requirement already satisfied: huggingface-hub>=0.23.0 in /usr/local/lib/python3.11/dist-packages (from datasets) (0.27.1)\n",
            "Requirement already satisfied: packaging in /usr/local/lib/python3.11/dist-packages (from datasets) (24.2)\n",
            "Requirement already satisfied: pyyaml>=5.1 in /usr/local/lib/python3.11/dist-packages (from datasets) (6.0.2)\n",
            "Requirement already satisfied: aiohappyeyeballs>=2.3.0 in /usr/local/lib/python3.11/dist-packages (from aiohttp->datasets) (2.4.4)\n",
            "Requirement already satisfied: aiosignal>=1.1.2 in /usr/local/lib/python3.11/dist-packages (from aiohttp->datasets) (1.3.2)\n",
            "Requirement already satisfied: attrs>=17.3.0 in /usr/local/lib/python3.11/dist-packages (from aiohttp->datasets) (24.3.0)\n",
            "Requirement already satisfied: frozenlist>=1.1.1 in /usr/local/lib/python3.11/dist-packages (from aiohttp->datasets) (1.5.0)\n",
            "Requirement already satisfied: multidict<7.0,>=4.5 in /usr/local/lib/python3.11/dist-packages (from aiohttp->datasets) (6.1.0)\n",
            "Requirement already satisfied: propcache>=0.2.0 in /usr/local/lib/python3.11/dist-packages (from aiohttp->datasets) (0.2.1)\n",
            "Requirement already satisfied: yarl<2.0,>=1.17.0 in /usr/local/lib/python3.11/dist-packages (from aiohttp->datasets) (1.18.3)\n",
            "Requirement already satisfied: typing-extensions>=3.7.4.3 in /usr/local/lib/python3.11/dist-packages (from huggingface-hub>=0.23.0->datasets) (4.12.2)\n",
            "Requirement already satisfied: charset-normalizer<4,>=2 in /usr/local/lib/python3.11/dist-packages (from requests>=2.32.2->datasets) (3.4.1)\n",
            "Requirement already satisfied: idna<4,>=2.5 in /usr/local/lib/python3.11/dist-packages (from requests>=2.32.2->datasets) (3.10)\n",
            "Requirement already satisfied: urllib3<3,>=1.21.1 in /usr/local/lib/python3.11/dist-packages (from requests>=2.32.2->datasets) (2.3.0)\n",
            "Requirement already satisfied: certifi>=2017.4.17 in /usr/local/lib/python3.11/dist-packages (from requests>=2.32.2->datasets) (2024.12.14)\n",
            "Requirement already satisfied: python-dateutil>=2.8.2 in /usr/local/lib/python3.11/dist-packages (from pandas->datasets) (2.8.2)\n",
            "Requirement already satisfied: pytz>=2020.1 in /usr/local/lib/python3.11/dist-packages (from pandas->datasets) (2024.2)\n",
            "Requirement already satisfied: tzdata>=2022.7 in /usr/local/lib/python3.11/dist-packages (from pandas->datasets) (2024.2)\n",
            "Requirement already satisfied: six>=1.5 in /usr/local/lib/python3.11/dist-packages (from python-dateutil>=2.8.2->pandas->datasets) (1.17.0)\n"
          ]
        }
      ],
      "source": [
        "!pip install datasets"
      ]
    },
    {
      "cell_type": "code",
      "source": [
        "from datasets import load_dataset\n",
        "dataset = load_dataset(\"openfoodfacts/product-database\")\n",
        "print(dataset)"
      ],
      "metadata": {
        "colab": {
          "base_uri": "https://localhost:8080/",
          "height": 347,
          "referenced_widgets": [
            "c6ee1c0e0ace4e2897997598c32cf2ab",
            "732cd87283e44354b31c57b92323c4d2",
            "295b5911877f41dfb2b617b867237f07",
            "119713a0c1b64b5bb058d611d65e9cf3",
            "94d8215d4cc341efa6165577133b10db",
            "45472e943a424e1daa0b5650f6b5d020",
            "4a08e43cbc73443ea9537ec606fba7cf",
            "5528c0b11ff74b99a37d1026c7f58557",
            "30ac76362479448e9eaade5f6e388f8b",
            "68fa86e57cf94e51812b1097e334d5ff",
            "5c2fe2f336ee4ae1b21632ea449503db"
          ]
        },
        "id": "74q4QORLuW8k",
        "outputId": "733c38a2-8d61-42d0-ef81-f38d0f2f8325"
      },
      "execution_count": null,
      "outputs": [
        {
          "output_type": "stream",
          "name": "stderr",
          "text": [
            "/usr/local/lib/python3.11/dist-packages/huggingface_hub/utils/_auth.py:94: UserWarning: \n",
            "The secret `HF_TOKEN` does not exist in your Colab secrets.\n",
            "To authenticate with the Hugging Face Hub, create a token in your settings tab (https://huggingface.co/settings/tokens), set it as secret in your Google Colab and restart your session.\n",
            "You will be able to reuse this secret in all of your notebooks.\n",
            "Please note that authentication is recommended but still optional to access public models or datasets.\n",
            "  warnings.warn(\n"
          ]
        },
        {
          "output_type": "display_data",
          "data": {
            "text/plain": [
              "Loading dataset shards:   0%|          | 0/58 [00:00<?, ?it/s]"
            ],
            "application/vnd.jupyter.widget-view+json": {
              "version_major": 2,
              "version_minor": 0,
              "model_id": "c6ee1c0e0ace4e2897997598c32cf2ab"
            }
          },
          "metadata": {}
        },
        {
          "output_type": "stream",
          "name": "stdout",
          "text": [
            "DatasetDict({\n",
            "    food: Dataset({\n",
            "        features: ['additives_n', 'additives_tags', 'allergens_tags', 'brands_tags', 'brands', 'categories', 'categories_tags', 'checkers_tags', 'ciqual_food_name_tags', 'cities_tags', 'code', 'compared_to_category', 'complete', 'completeness', 'correctors_tags', 'countries_tags', 'created_t', 'creator', 'data_quality_errors_tags', 'data_quality_info_tags', 'data_quality_warnings_tags', 'data_sources_tags', 'ecoscore_data', 'ecoscore_grade', 'ecoscore_score', 'ecoscore_tags', 'editors', 'emb_codes_tags', 'emb_codes', 'entry_dates_tags', 'food_groups_tags', 'generic_name', 'images', 'informers_tags', 'ingredients_analysis_tags', 'ingredients_from_palm_oil_n', 'ingredients_n', 'ingredients_original_tags', 'ingredients_percent_analysis', 'ingredients_tags', 'ingredients_text', 'ingredients_with_specified_percent_n', 'ingredients_with_unspecified_percent_n', 'ingredients_without_ciqual_codes_n', 'ingredients_without_ciqual_codes', 'ingredients', 'known_ingredients_n', 'labels_tags', 'labels', 'lang', 'languages_tags', 'last_edit_dates_tags', 'last_editor', 'last_image_t', 'last_modified_by', 'last_modified_t', 'last_updated_t', 'link', 'main_countries_tags', 'manufacturing_places_tags', 'manufacturing_places', 'max_imgid', 'minerals_tags', 'misc_tags', 'new_additives_n', 'no_nutrition_data', 'nova_group', 'nova_groups_tags', 'nova_groups', 'nucleotides_tags', 'nutrient_levels_tags', 'nutriments', 'nutriscore_grade', 'nutriscore_score', 'nutrition_data_per', 'obsolete', 'origins_tags', 'origins', 'owner_fields', 'owner', 'packagings_complete', 'packaging_recycling_tags', 'packaging_shapes_tags', 'packaging_tags', 'packaging_text', 'packaging', 'packagings', 'photographers', 'popularity_key', 'popularity_tags', 'product_name', 'product_quantity_unit', 'product_quantity', 'purchase_places_tags', 'quantity', 'rev', 'scans_n', 'serving_quantity', 'serving_size', 'states_tags', 'stores_tags', 'stores', 'traces_tags', 'unique_scans_n', 'unknown_ingredients_n', 'unknown_nutrients_tags', 'vitamins_tags', 'with_non_nutritive_sweeteners', 'with_sweeteners'],\n",
            "        num_rows: 3601655\n",
            "    })\n",
            "    beauty: Dataset({\n",
            "        features: ['additives_n', 'additives_tags', 'allergens_tags', 'brands_tags', 'brands', 'categories', 'categories_tags', 'checkers_tags', 'ciqual_food_name_tags', 'cities_tags', 'code', 'compared_to_category', 'complete', 'completeness', 'correctors_tags', 'countries_tags', 'created_t', 'creator', 'data_quality_errors_tags', 'data_quality_info_tags', 'data_quality_warnings_tags', 'data_sources_tags', 'ecoscore_data', 'ecoscore_grade', 'ecoscore_score', 'ecoscore_tags', 'editors', 'emb_codes_tags', 'emb_codes', 'entry_dates_tags', 'food_groups_tags', 'generic_name', 'images', 'informers_tags', 'ingredients_analysis_tags', 'ingredients_from_palm_oil_n', 'ingredients_n', 'ingredients_original_tags', 'ingredients_percent_analysis', 'ingredients_tags', 'ingredients_text', 'ingredients_with_specified_percent_n', 'ingredients_with_unspecified_percent_n', 'ingredients_without_ciqual_codes_n', 'ingredients_without_ciqual_codes', 'ingredients', 'known_ingredients_n', 'labels_tags', 'labels', 'lang', 'languages_tags', 'last_edit_dates_tags', 'last_editor', 'last_image_t', 'last_modified_by', 'last_modified_t', 'last_updated_t', 'link', 'main_countries_tags', 'manufacturing_places_tags', 'manufacturing_places', 'max_imgid', 'minerals_tags', 'misc_tags', 'new_additives_n', 'no_nutrition_data', 'nova_group', 'nova_groups_tags', 'nova_groups', 'nucleotides_tags', 'nutrient_levels_tags', 'nutriments', 'nutriscore_grade', 'nutriscore_score', 'nutrition_data_per', 'obsolete', 'origins_tags', 'origins', 'owner_fields', 'owner', 'packagings_complete', 'packaging_recycling_tags', 'packaging_shapes_tags', 'packaging_tags', 'packaging_text', 'packaging', 'packagings', 'photographers', 'popularity_key', 'popularity_tags', 'product_name', 'product_quantity_unit', 'product_quantity', 'purchase_places_tags', 'quantity', 'rev', 'scans_n', 'serving_quantity', 'serving_size', 'states_tags', 'stores_tags', 'stores', 'traces_tags', 'unique_scans_n', 'unknown_ingredients_n', 'unknown_nutrients_tags', 'vitamins_tags', 'with_non_nutritive_sweeteners', 'with_sweeteners'],\n",
            "        num_rows: 41890\n",
            "    })\n",
            "})\n"
          ]
        }
      ]
    },
    {
      "cell_type": "code",
      "source": [
        "food_data = dataset['food']"
      ],
      "metadata": {
        "id": "f2Kh6y-mpHpu"
      },
      "execution_count": null,
      "outputs": []
    },
    {
      "cell_type": "code",
      "source": [
        "print(food_data.column_names)"
      ],
      "metadata": {
        "colab": {
          "base_uri": "https://localhost:8080/"
        },
        "id": "CeVIg51XpL3g",
        "outputId": "e9a2b12b-e8a8-4737-e9ac-8cd578a4544b"
      },
      "execution_count": null,
      "outputs": [
        {
          "output_type": "stream",
          "name": "stdout",
          "text": [
            "['additives_n', 'additives_tags', 'allergens_tags', 'brands_tags', 'brands', 'categories', 'categories_tags', 'checkers_tags', 'ciqual_food_name_tags', 'cities_tags', 'code', 'compared_to_category', 'complete', 'completeness', 'correctors_tags', 'countries_tags', 'created_t', 'creator', 'data_quality_errors_tags', 'data_quality_info_tags', 'data_quality_warnings_tags', 'data_sources_tags', 'ecoscore_data', 'ecoscore_grade', 'ecoscore_score', 'ecoscore_tags', 'editors', 'emb_codes_tags', 'emb_codes', 'entry_dates_tags', 'food_groups_tags', 'generic_name', 'images', 'informers_tags', 'ingredients_analysis_tags', 'ingredients_from_palm_oil_n', 'ingredients_n', 'ingredients_original_tags', 'ingredients_percent_analysis', 'ingredients_tags', 'ingredients_text', 'ingredients_with_specified_percent_n', 'ingredients_with_unspecified_percent_n', 'ingredients_without_ciqual_codes_n', 'ingredients_without_ciqual_codes', 'ingredients', 'known_ingredients_n', 'labels_tags', 'labels', 'lang', 'languages_tags', 'last_edit_dates_tags', 'last_editor', 'last_image_t', 'last_modified_by', 'last_modified_t', 'last_updated_t', 'link', 'main_countries_tags', 'manufacturing_places_tags', 'manufacturing_places', 'max_imgid', 'minerals_tags', 'misc_tags', 'new_additives_n', 'no_nutrition_data', 'nova_group', 'nova_groups_tags', 'nova_groups', 'nucleotides_tags', 'nutrient_levels_tags', 'nutriments', 'nutriscore_grade', 'nutriscore_score', 'nutrition_data_per', 'obsolete', 'origins_tags', 'origins', 'owner_fields', 'owner', 'packagings_complete', 'packaging_recycling_tags', 'packaging_shapes_tags', 'packaging_tags', 'packaging_text', 'packaging', 'packagings', 'photographers', 'popularity_key', 'popularity_tags', 'product_name', 'product_quantity_unit', 'product_quantity', 'purchase_places_tags', 'quantity', 'rev', 'scans_n', 'serving_quantity', 'serving_size', 'states_tags', 'stores_tags', 'stores', 'traces_tags', 'unique_scans_n', 'unknown_ingredients_n', 'unknown_nutrients_tags', 'vitamins_tags', 'with_non_nutritive_sweeteners', 'with_sweeteners']\n"
          ]
        }
      ]
    },
    {
      "cell_type": "code",
      "source": [
        "print(food_data[0]['images'])"
      ],
      "metadata": {
        "colab": {
          "base_uri": "https://localhost:8080/"
        },
        "id": "oDFoH0lYpUH_",
        "outputId": "9e8a1dd6-75c5-4d0f-dff3-6050e112d450"
      },
      "execution_count": null,
      "outputs": [
        {
          "output_type": "stream",
          "name": "stdout",
          "text": [
            "[{'key': 'ingredients_fr', 'imgid': 2, 'sizes': {'100': {'h': 50, 'w': 100}, '200': {'h': 100, 'w': 200}, '400': {'h': 199, 'w': 400}, 'full': {'h': 545, 'w': 1095}}, 'uploaded_t': None, 'uploader': None}, {'key': '3', 'imgid': None, 'sizes': {'100': {'h': 94, 'w': 100}, '200': None, '400': {'h': 376, 'w': 400}, 'full': {'h': 1200, 'w': 1278}}, 'uploaded_t': 1579374831, 'uploader': 'kiliweb'}, {'key': '2', 'imgid': None, 'sizes': {'100': {'h': 75, 'w': 100}, '200': None, '400': {'h': 300, 'w': 400}, 'full': {'h': 1200, 'w': 1599}}, 'uploaded_t': 1519297021, 'uploader': 'kiliweb'}, {'key': 'nutrition_fr', 'imgid': 3, 'sizes': {'100': {'h': 94, 'w': 100}, '200': {'h': 188, 'w': 200}, '400': {'h': 376, 'w': 400}, 'full': {'h': 1200, 'w': 1278}}, 'uploaded_t': None, 'uploader': None}, {'key': '1', 'imgid': None, 'sizes': {'100': {'h': 100, 'w': 75}, '200': None, '400': {'h': 400, 'w': 300}, 'full': {'h': 1200, 'w': 901}}, 'uploaded_t': 1519297019, 'uploader': 'kiliweb'}, {'key': 'front_fr', 'imgid': 1, 'sizes': {'100': {'h': 100, 'w': 75}, '200': {'h': 200, 'w': 150}, '400': {'h': 400, 'w': 300}, 'full': {'h': 1200, 'w': 901}}, 'uploaded_t': None, 'uploader': None}]\n"
          ]
        }
      ]
    },
    {
      "cell_type": "code",
      "source": [
        "import requests\n",
        "from PIL import Image\n",
        "from io import BytesIO\n",
        "import re\n",
        "\n",
        "def get_image_url_from_list(images_list, product_code, image_key, resolution=\"full\"):\n",
        "    base_url = \"https://images.openfoodfacts.org/images/products\"\n",
        "\n",
        "    folder_name = product_code\n",
        "    if len(folder_name) > 8:\n",
        "        folder_name = re.sub(r\"(...)(...)(...)(.*)\", r\"\\1/\\2/\\3/\\4\", folder_name)\n",
        "\n",
        "    for image in images_list:\n",
        "        if image['key'] == image_key:\n",
        "            imgid = image.get('imgid', None)\n",
        "            if imgid:\n",
        "                resolution_suffix = \"\" if resolution == \"full\" else f\".{resolution}\"\n",
        "                filename = f\"{imgid}{resolution_suffix}.jpg\"\n",
        "            else:\n",
        "                filename = f\"{image_key}.{resolution}.jpg\"\n",
        "\n",
        "            return f\"{base_url}/{folder_name}/{filename}\"\n",
        "\n",
        "    return None\n",
        "\n",
        "def show_image_from_url(url):\n",
        "    response = requests.get(url)\n",
        "    if response.status_code == 200:\n",
        "        img = Image.open(BytesIO(response.content))\n",
        "        img.show()\n",
        "    else:\n",
        "        print(f\"Failed to fetch image from URL: {url}\")\n",
        "\n",
        "product = food_data[0]\n",
        "product_code = product['code']\n",
        "images_list = product['images']\n",
        "\n",
        "print(images_list)\n",
        "\n",
        "image_url = get_image_url_from_list(images_list, product_code, \"nutrition_fr\", resolution=\"400\")\n",
        "\n",
        "if image_url:\n",
        "    print(f\"Generated Image URL: {image_url}\")\n",
        "    show_image_from_url(image_url)\n",
        "else:\n",
        "    print(\"Image URL could not be generated.\")\n"
      ],
      "metadata": {
        "colab": {
          "base_uri": "https://localhost:8080/"
        },
        "id": "l4WO_d0ctKDs",
        "outputId": "424806ca-ddb0-48bc-c8a1-8025f3a26742"
      },
      "execution_count": null,
      "outputs": [
        {
          "output_type": "stream",
          "name": "stdout",
          "text": [
            "[{'key': 'ingredients_fr', 'imgid': 2, 'sizes': {'100': {'h': 50, 'w': 100}, '200': {'h': 100, 'w': 200}, '400': {'h': 199, 'w': 400}, 'full': {'h': 545, 'w': 1095}}, 'uploaded_t': None, 'uploader': None}, {'key': '3', 'imgid': None, 'sizes': {'100': {'h': 94, 'w': 100}, '200': None, '400': {'h': 376, 'w': 400}, 'full': {'h': 1200, 'w': 1278}}, 'uploaded_t': 1579374831, 'uploader': 'kiliweb'}, {'key': '2', 'imgid': None, 'sizes': {'100': {'h': 75, 'w': 100}, '200': None, '400': {'h': 300, 'w': 400}, 'full': {'h': 1200, 'w': 1599}}, 'uploaded_t': 1519297021, 'uploader': 'kiliweb'}, {'key': 'nutrition_fr', 'imgid': 3, 'sizes': {'100': {'h': 94, 'w': 100}, '200': {'h': 188, 'w': 200}, '400': {'h': 376, 'w': 400}, 'full': {'h': 1200, 'w': 1278}}, 'uploaded_t': None, 'uploader': None}, {'key': '1', 'imgid': None, 'sizes': {'100': {'h': 100, 'w': 75}, '200': None, '400': {'h': 400, 'w': 300}, 'full': {'h': 1200, 'w': 901}}, 'uploaded_t': 1519297019, 'uploader': 'kiliweb'}, {'key': 'front_fr', 'imgid': 1, 'sizes': {'100': {'h': 100, 'w': 75}, '200': {'h': 200, 'w': 150}, '400': {'h': 400, 'w': 300}, 'full': {'h': 1200, 'w': 901}}, 'uploaded_t': None, 'uploader': None}]\n",
            "Generated Image URL: https://images.openfoodfacts.org/images/products/000/010/120/9159/3.400.jpg\n"
          ]
        }
      ]
    }
  ]
}